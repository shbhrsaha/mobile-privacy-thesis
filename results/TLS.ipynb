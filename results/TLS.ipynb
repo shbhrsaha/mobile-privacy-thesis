{
 "cells": [
  {
   "cell_type": "code",
   "execution_count": 1,
   "metadata": {
    "collapsed": false
   },
   "outputs": [
    {
     "name": "stdout",
     "output_type": "stream",
     "text": [
      "Populating the interactive namespace from numpy and matplotlib\n"
     ]
    }
   ],
   "source": [
    "%pylab inline\n",
    "from IPython.display import display, clear_output\n",
    "import sys\n",
    "import time\n",
    "import pickle\n",
    "import cgi\n",
    "import urlparse\n",
    "import utils\n",
    "import collections\n",
    "\n",
    "import numpy as np\n",
    "import matplotlib.pyplot as plt\n",
    "import matplotlib.pylab as pylab\n",
    "import matplotlib\n",
    "\n",
    "pylab.rcParams['figure.figsize'] = 16, 12\n",
    "\n",
    "font = {'family' : 'Arial',\n",
    "        'weight' : 'bold',\n",
    "        'size'   : 28}\n",
    "\n",
    "matplotlib.rc('font', **font)"
   ]
  },
  {
   "cell_type": "markdown",
   "metadata": {},
   "source": [
    "### How many packages use HTTP or HTTPS more?"
   ]
  },
  {
   "cell_type": "code",
   "execution_count": 2,
   "metadata": {
    "collapsed": false
   },
   "outputs": [
    {
     "name": "stdout",
     "output_type": "stream",
     "text": [
      "2424\n"
     ]
    }
   ],
   "source": [
    "packages_mostly_https = {} # True if package uses TLS for most requests\n",
    "\n",
    "counter = 0\n",
    "for run in utils.runs.find():\n",
    "    clear_output(wait=True)\n",
    "    print(counter)\n",
    "    sys.stdout.flush()\n",
    "    counter += 1\n",
    "    \n",
    "    package_title = run[\"package_title\"]\n",
    "    \n",
    "    if package_title in packages_mostly_https:\n",
    "        continue\n",
    "        \n",
    "    requests = [pickle.loads(x) for x in run[\"requests\"]]\n",
    "    \n",
    "    https_count = 0\n",
    "    http_count = 0\n",
    "    \n",
    "    for request in requests:\n",
    "        if request.scheme == \"http\":\n",
    "            https_count += 1\n",
    "        if request.scheme == \"https\":\n",
    "            http_count += 1\n",
    "            \n",
    "    if https_count > http_count:\n",
    "        packages_mostly_https[package_title] = True\n",
    "    else:\n",
    "        packages_mostly_https[package_title] = False"
   ]
  },
  {
   "cell_type": "code",
   "execution_count": 3,
   "metadata": {
    "collapsed": false
   },
   "outputs": [
    {
     "name": "stdout",
     "output_type": "stream",
     "text": [
      " HTTP Package Count: 1684\n",
      "HTTPS Package Count: 741\n"
     ]
    }
   ],
   "source": [
    "http_count = 0\n",
    "https_count = 0\n",
    "\n",
    "for package in packages_mostly_https:\n",
    "    if packages_mostly_https[package]:\n",
    "        https_count += 1\n",
    "    else:\n",
    "        http_count += 1\n",
    "        \n",
    "print \" HTTP Package Count: %s\" % http_count\n",
    "print \"HTTPS Package Count: %s\" % https_count"
   ]
  },
  {
   "cell_type": "code",
   "execution_count": 4,
   "metadata": {
    "collapsed": false
   },
   "outputs": [
    {
     "data": {
      "image/png": "[encoded data removed]",
      "text/plain": [
       "<matplotlib.figure.Figure at 0x105fe6b90>"
      ]
     },
     "metadata": {},
     "output_type": "display_data"
    }
   ],
   "source": [
    "pylab.figure(1, figsize=(6,6))\n",
    "ax = pylab.axes([0.1, 0.1, 0.8, 0.8])\n",
    "\n",
    "labels = 'HTTPS', 'HTTP'\n",
    "fracs = [https_count, http_count]\n",
    "\n",
    "pylab.pie(fracs, labels=labels, autopct='%1.1f%%', shadow=True, startangle=90)\n",
    "\n",
    "pylab.title('',bbox={'facecolor':'0.8', 'pad':5})\n",
    "\n",
    "show()"
   ]
  },
  {
   "cell_type": "markdown",
   "metadata": {},
   "source": [
    "### When do packages make network requests to the same URL with the same parameters using HTTP in one case and HTTPS in the other?"
   ]
  },
  {
   "cell_type": "code",
   "execution_count": 5,
   "metadata": {
    "collapsed": false
   },
   "outputs": [
    {
     "name": "stdout",
     "output_type": "stream",
     "text": [
      "2424\n"
     ]
    }
   ],
   "source": [
    "split_incidents = []\n",
    "\n",
    "url_schemes = {} # key is hash of host, path, GET keys, POST keys. Value is (package_title, request) of hash\n",
    "\n",
    "counter = 0\n",
    "for run in utils.runs.find():\n",
    "    clear_output(wait=True)\n",
    "    print(counter)\n",
    "    sys.stdout.flush()\n",
    "    counter += 1\n",
    "    \n",
    "    package_title = run[\"package_title\"]\n",
    "    \n",
    "    requests = [pickle.loads(x) for x in run[\"requests\"]]\n",
    "    \n",
    "    for request in requests:\n",
    "        url_parsed = urlparse.urlparse(request.path)\n",
    "        hash_input = \",\".join([request.host, url_parsed.path, \",\".join(cgi.parse_qs(url_parsed.query).keys()), \",\".join(cgi.parse_qs(request.content).keys())])\n",
    "        \n",
    "        if hash_input not in url_schemes:\n",
    "            url_schemes[hash_input] = (package_title, request)\n",
    "        elif url_schemes[hash_input][1].scheme != request.scheme:\n",
    "            split_incidents.append((url_schemes[hash_input], (package_title, request)))"
   ]
  },
  {
   "cell_type": "code",
   "execution_count": 6,
   "metadata": {
    "collapsed": false
   },
   "outputs": [],
   "source": [
    "split_incident_hosts = {}\n",
    "\n",
    "for incident in split_incidents:\n",
    "    if incident[0][1].host not in split_incident_hosts:\n",
    "        split_incident_hosts[incident[0][1].host] = True"
   ]
  },
  {
   "cell_type": "code",
   "execution_count": 9,
   "metadata": {
    "collapsed": false
   },
   "outputs": [
    {
     "data": {
      "text/plain": [
       "194"
      ]
     },
     "execution_count": 9,
     "metadata": {},
     "output_type": "execute_result"
    }
   ],
   "source": [
    "len(split_incident_hosts.keys())"
   ]
  },
  {
   "cell_type": "code",
   "execution_count": 8,
   "metadata": {
    "collapsed": false
   },
   "outputs": [
    {
     "ename": "NameError",
     "evalue": "name 'i' is not defined",
     "output_type": "error",
     "traceback": [
      "\u001b[0;31m---------------------------------------------------------------------------\u001b[0m",
      "\u001b[0;31mNameError\u001b[0m                                 Traceback (most recent call last)",
      "\u001b[0;32m<ipython-input-8-f49d676ac560>\u001b[0m in \u001b[0;36m<module>\u001b[0;34m()\u001b[0m\n\u001b[1;32m      1\u001b[0m \u001b[0mn\u001b[0m \u001b[0;34m=\u001b[0m \u001b[0;36m1\u001b[0m\u001b[0;34m\u001b[0m\u001b[0m\n\u001b[0;32m----> 2\u001b[0;31m \u001b[0;32mprint\u001b[0m \u001b[0msplit_incidents\u001b[0m\u001b[0;34m[\u001b[0m\u001b[0mi\u001b[0m\u001b[0;34m]\u001b[0m\u001b[0;34m[\u001b[0m\u001b[0;36m0\u001b[0m\u001b[0;34m]\u001b[0m\u001b[0;34m[\u001b[0m\u001b[0;36m1\u001b[0m\u001b[0;34m]\u001b[0m\u001b[0;34m\u001b[0m\u001b[0m\n\u001b[0m\u001b[1;32m      3\u001b[0m \u001b[0;32mprint\u001b[0m \u001b[0msplit_incidents\u001b[0m\u001b[0;34m[\u001b[0m\u001b[0mi\u001b[0m\u001b[0;34m]\u001b[0m\u001b[0;34m[\u001b[0m\u001b[0;36m1\u001b[0m\u001b[0;34m]\u001b[0m\u001b[0;34m[\u001b[0m\u001b[0;36m1\u001b[0m\u001b[0;34m]\u001b[0m\u001b[0;34m\u001b[0m\u001b[0m\n",
      "\u001b[0;31mNameError\u001b[0m: name 'i' is not defined"
     ]
    }
   ],
   "source": [
    "n = 1\n",
    "print split_incidents[i][0][1]\n",
    "print split_incidents[i][1][1]"
   ]
  },
  {
   "cell_type": "code",
   "execution_count": null,
   "metadata": {
    "collapsed": false
   },
   "outputs": [],
   "source": [
    "print len(split_incident_hosts.keys())"
   ]
  },
  {
   "cell_type": "code",
   "execution_count": null,
   "metadata": {
    "collapsed": false
   },
   "outputs": [],
   "source": [
    "request = split_incidents[i][0][1]\n",
    "\",\".join([request.host, url_parsed.path, \",\".join(cgi.parse_qs(url_parsed.query).keys()), \",\".join(cgi.parse_qs(request.content).keys())])"
   ]
  },
  {
   "cell_type": "code",
   "execution_count": null,
   "metadata": {
    "collapsed": false
   },
   "outputs": [],
   "source": [
    "split_incidents[i][1].request"
   ]
  },
  {
   "cell_type": "code",
   "execution_count": null,
   "metadata": {
    "collapsed": true
   },
   "outputs": [],
   "source": []
  }
 ],
 "metadata": {
  "kernelspec": {
   "display_name": "Python 2",
   "language": "python",
   "name": "python2"
  },
  "language_info": {
   "codemirror_mode": {
    "name": "ipython",
    "version": 2
   },
   "file_extension": ".py",
   "mimetype": "text/x-python",
   "name": "python",
   "nbconvert_exporter": "python",
   "pygments_lexer": "ipython2",
   "version": "2.7.9"
  }
 },
 "nbformat": 4,
 "nbformat_minor": 0
}
